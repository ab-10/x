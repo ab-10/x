{
 "cells": [
  {
   "cell_type": "code",
   "execution_count": 66,
   "metadata": {},
   "outputs": [],
   "source": [
    "import rdflib\n",
    "from rdflib import RDF"
   ]
  },
  {
   "cell_type": "code",
   "execution_count": 62,
   "metadata": {},
   "outputs": [],
   "source": [
    "class Property:\n",
    "    def __init__(self, value, role, subject):\n",
    "        self.value = value\n",
    "        self.role = role\n",
    "        self.subject = subject\n",
    "\n",
    "class Definition:\n",
    "    def __init__(self, wn_sense, definienda, properties):\n",
    "        self.wn_sense = wn_sense\n",
    "        self.properties = properties\n",
    "        self.definienda = definienda"
   ]
  },
  {
   "cell_type": "code",
   "execution_count": 113,
   "metadata": {},
   "outputs": [],
   "source": [
    "definition_query = \"\"\"PREFIX rdf: <http://www.w3.org/1999/02/22-rdf-syntax-ns#>\n",
    "SELECT DISTINCT ?definition\n",
    "WHERE{\n",
    "    ?definition rdf:type ?property .\n",
    "    FILTER(?property != rdf:Statement)\n",
    "}\"\"\"\n",
    "\n",
    "property_template = \"\"\"PREFIX rdf: <http://www.w3.org/1999/02/22-rdf-syntax-ns#>\n",
    "SELECT ?value ?role ?subject\n",
    "WHERE{{\n",
    "<{}>      rdf:type      ?property .\n",
    "?property rdf:object    ?value .\n",
    "?property rdf:predicate ?role .\n",
    "?property rdf:subject   ?subject\n",
    "}}\"\"\"\n",
    "\n",
    "nested_property_template = \"\"\"PREFIX rdf: <http://www.w3.org/1999/02/22-rdf-syntax-ns#>\n",
    "SELECT ?role ?subject ?subValue ?subRole ?subSubject\n",
    "WHERE {{\n",
    "<{}>             rdf:type    ?property .\n",
    "?property        rdf:object    ?subProperty .\n",
    "?property        rdf:predicate ?role .\n",
    "?property        rdf:subject   ?subject .\n",
    "?subProperty     rdf:object    ?subValue .\n",
    "?subProperty     rdf:predicate ?subRole .\n",
    "?subProperty     rdf:subject   ?subSubject\n",
    "}}\"\"\"\n",
    "\n",
    "label_query_template = \"\"\"PREFIX rdf: <http://www.w3.org/2000/01/rdf-schema#>\n",
    "SELECT DISTINCT ?definiendum\n",
    "WHERE {{\n",
    "<{}>     rdf:label    ?definiendum\n",
    "}}\n",
    "\"\"\""
   ]
  },
  {
   "cell_type": "code",
   "execution_count": 4,
   "metadata": {},
   "outputs": [],
   "source": [
    "wn_graph = rdflib.Graph()\n",
    "wn_graph.parse(\"WN_DSR_model_XML.rdf\")\n",
    "\n",
    "definitions = wn_graph.query(definition_query)"
   ]
  },
  {
   "cell_type": "code",
   "execution_count": 129,
   "metadata": {},
   "outputs": [],
   "source": [
    "wn_definitions = []\n",
    "# Definitions consist of rows of results, each row being a tuple\n",
    "# containing the URI of WN synset as its only element\n",
    "for definition in definitions:\n",
    "    current_properties = []\n",
    "    current_definienda = []\n",
    "    \n",
    "    wn_uri = str(definition[0])\n",
    "    has_nested_properties = False\n",
    "    \n",
    "    wn_definienda = wn_graph.query(label_query_template.format(wn_uri))\n",
    "    for wn_definiendum in wn_definienda:\n",
    "        current_definienda.append(wn_definiendum[0])\n",
    "    wn_properties = wn_graph.query(property_template.format(wn_uri))\n",
    "    # TODO: figure out how to represent nested properties\n",
    "    for wn_property in wn_properties:\n",
    "        if(type(wn_property[0]) == rdflib.term.Literal):\n",
    "            value = wn_property[0]\n",
    "            role = wn_property[1]\n",
    "            subject = wn_property[2]\n",
    "            current_properties.append(Property(value, role, subject))\n",
    "        else:\n",
    "            has_nested_properties = True\n",
    "    wn_definitions.append(Definition(wn_uri, current_definienda, current_properties))"
   ]
  },
  {
   "cell_type": "code",
   "execution_count": 130,
   "metadata": {},
   "outputs": [],
   "source": [
    "x_graph = rdflib.Graph()\n",
    "efficient_cause = rdflib.term.URIRef('http://nlp/resources/AristotelianCauses#has_efficient_cause')\n",
    "final_cause = rdflib.term.URIRef('http://nlp/resources/AristotelianCauses#has_final_cause')\n",
    "rdf_schema = rdflib.Namespace(\"http://www.w3.org/2000/01/rdf-schema#\")\n",
    "for definition in wn_definitions:\n",
    "    \n",
    "    for definiendum in definition.definienda:\n",
    "        x_graph.add( (rdflib.term.URIRef(definition.wn_sense), rdf_schema['label'], definiendum) )\n",
    "    \n",
    "    for wn_property in definition.properties:\n",
    "        if wn_property.role == rdflib.term.URIRef('http://nlp/resources/DefinitionSemanticRoles#has_purpose'):\n",
    "            x_graph.add( (rdflib.term.URIRef(definition.wn_sense), final_cause, wn_property.value) )\n",
    "        elif wn_property.role == rdflib.term.URIRef('http://nlp/resources/DefinitionSemanticRoles#has_diff_event'):\n",
    "            x_graph.add( (rdflib.term.URIRef(definition.wn_sense), efficient_cause, wn_property.value) )"
   ]
  },
  {
   "cell_type": "code",
   "execution_count": 131,
   "metadata": {},
   "outputs": [],
   "source": [
    "with open(\"x_graph.n\", \"wb\") as graph_file:\n",
    "    graph_file.write(x_graph.serialize(format=\"n3\"))"
   ]
  },
  {
   "cell_type": "code",
   "execution_count": null,
   "metadata": {},
   "outputs": [],
   "source": []
  }
 ],
 "metadata": {
  "kernelspec": {
   "display_name": "Python 3",
   "language": "python",
   "name": "python3"
  },
  "language_info": {
   "codemirror_mode": {
    "name": "ipython",
    "version": 3
   },
   "file_extension": ".py",
   "mimetype": "text/x-python",
   "name": "python",
   "nbconvert_exporter": "python",
   "pygments_lexer": "ipython3",
   "version": "3.6.7"
  }
 },
 "nbformat": 4,
 "nbformat_minor": 2
}
